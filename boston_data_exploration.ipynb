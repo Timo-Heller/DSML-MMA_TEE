{
 "cells": [
  {
   "cell_type": "markdown",
   "metadata": {},
   "source": [
    "\n",
    "### Exploration of the boston_2016 bluebikes dataset for cleaning preparation\n"
   ]
  },
  {
   "cell_type": "code",
   "execution_count": 1,
   "metadata": {},
   "outputs": [],
   "source": [
    "# from WS_05\n",
    "\n",
    "# import all relevant libraries\n",
    "\n",
    "import pandas as pd\n",
    "import numpy as np\n",
    "import matplotlib.pyplot as plt\n",
    "from pandas.plotting import register_matplotlib_converters\n",
    "register_matplotlib_converters()\n",
    "import seaborn as sns\n",
    "sns.set()\n",
    "sns.set_style(\"white\")\n",
    "sns.set_palette(\"GnBu_d\")\n",
    "\n",
    "import folium\n",
    "from folium import plugins\n",
    "from folium.plugins import HeatMap\n",
    "\n",
    "import math\n",
    "import random\n",
    "\n",
    "from datetime import date, time, datetime, timedelta"
   ]
  },
  {
   "cell_type": "code",
   "execution_count": 2,
   "metadata": {},
   "outputs": [],
   "source": [
    "### read in Boston Bike data to a Dataframe\n",
    "\n",
    "boston = pd.read_csv(\"boston_2016.csv\")"
   ]
  },
  {
   "cell_type": "code",
   "execution_count": 3,
   "metadata": {},
   "outputs": [
    {
     "name": "stdout",
     "output_type": "stream",
     "text": [
      "<class 'pandas.core.frame.DataFrame'>\n",
      "RangeIndex: 1236203 entries, 0 to 1236202\n",
      "Data columns (total 8 columns):\n",
      " #   Column              Non-Null Count    Dtype \n",
      "---  ------              --------------    ----- \n",
      " 0   start_time          1236203 non-null  object\n",
      " 1   end_time            1236203 non-null  object\n",
      " 2   start_station_id    1236203 non-null  int64 \n",
      " 3   end_station_id      1236203 non-null  int64 \n",
      " 4   start_station_name  1236203 non-null  object\n",
      " 5   end_station_name    1236203 non-null  object\n",
      " 6   bike_id             1236203 non-null  int64 \n",
      " 7   user_type           1236203 non-null  object\n",
      "dtypes: int64(3), object(5)\n",
      "memory usage: 75.5+ MB\n"
     ]
    }
   ],
   "source": [
    "boston.info()"
   ]
  },
  {
   "cell_type": "code",
   "execution_count": 4,
   "metadata": {},
   "outputs": [
    {
     "data": {
      "text/plain": [
       "start_time            0\n",
       "end_time              0\n",
       "start_station_id      0\n",
       "end_station_id        0\n",
       "start_station_name    0\n",
       "end_station_name      0\n",
       "bike_id               0\n",
       "user_type             0\n",
       "dtype: int64"
      ]
     },
     "execution_count": 4,
     "metadata": {},
     "output_type": "execute_result"
    }
   ],
   "source": [
    "boston.isna().sum()"
   ]
  },
  {
   "cell_type": "markdown",
   "metadata": {},
   "source": [
    "### 0 null values in the dataset"
   ]
  },
  {
   "cell_type": "code",
   "execution_count": 5,
   "metadata": {},
   "outputs": [
    {
     "data": {
      "text/html": [
       "<div>\n",
       "<style scoped>\n",
       "    .dataframe tbody tr th:only-of-type {\n",
       "        vertical-align: middle;\n",
       "    }\n",
       "\n",
       "    .dataframe tbody tr th {\n",
       "        vertical-align: top;\n",
       "    }\n",
       "\n",
       "    .dataframe thead th {\n",
       "        text-align: right;\n",
       "    }\n",
       "</style>\n",
       "<table border=\"1\" class=\"dataframe\">\n",
       "  <thead>\n",
       "    <tr style=\"text-align: right;\">\n",
       "      <th></th>\n",
       "      <th>start_time</th>\n",
       "      <th>end_time</th>\n",
       "      <th>start_station_id</th>\n",
       "      <th>end_station_id</th>\n",
       "      <th>start_station_name</th>\n",
       "      <th>end_station_name</th>\n",
       "      <th>bike_id</th>\n",
       "      <th>user_type</th>\n",
       "    </tr>\n",
       "  </thead>\n",
       "  <tbody>\n",
       "    <tr>\n",
       "      <th>0</th>\n",
       "      <td>2016-01-01 00:08:07</td>\n",
       "      <td>2016-01-01 00:40:26</td>\n",
       "      <td>36</td>\n",
       "      <td>19</td>\n",
       "      <td>Boston Public Library - 700 Boylston St.</td>\n",
       "      <td>Buswell St. at Park Dr.</td>\n",
       "      <td>1406</td>\n",
       "      <td>Subscriber</td>\n",
       "    </tr>\n",
       "    <tr>\n",
       "      <th>1</th>\n",
       "      <td>2016-01-01 00:08:19</td>\n",
       "      <td>2016-01-01 00:40:27</td>\n",
       "      <td>36</td>\n",
       "      <td>19</td>\n",
       "      <td>Boston Public Library - 700 Boylston St.</td>\n",
       "      <td>Buswell St. at Park Dr.</td>\n",
       "      <td>1121</td>\n",
       "      <td>Subscriber</td>\n",
       "    </tr>\n",
       "    <tr>\n",
       "      <th>2</th>\n",
       "      <td>2016-01-01 00:10:15</td>\n",
       "      <td>2016-01-01 00:40:29</td>\n",
       "      <td>36</td>\n",
       "      <td>19</td>\n",
       "      <td>Boston Public Library - 700 Boylston St.</td>\n",
       "      <td>Buswell St. at Park Dr.</td>\n",
       "      <td>474</td>\n",
       "      <td>Subscriber</td>\n",
       "    </tr>\n",
       "    <tr>\n",
       "      <th>3</th>\n",
       "      <td>2016-01-01 00:10:22</td>\n",
       "      <td>2016-01-01 00:40:11</td>\n",
       "      <td>36</td>\n",
       "      <td>19</td>\n",
       "      <td>Boston Public Library - 700 Boylston St.</td>\n",
       "      <td>Buswell St. at Park Dr.</td>\n",
       "      <td>1504</td>\n",
       "      <td>Subscriber</td>\n",
       "    </tr>\n",
       "    <tr>\n",
       "      <th>4</th>\n",
       "      <td>2016-01-01 00:15:36</td>\n",
       "      <td>2016-01-01 00:31:17</td>\n",
       "      <td>36</td>\n",
       "      <td>67</td>\n",
       "      <td>Boston Public Library - 700 Boylston St.</td>\n",
       "      <td>MIT at Mass Ave / Amherst St</td>\n",
       "      <td>913</td>\n",
       "      <td>Customer</td>\n",
       "    </tr>\n",
       "    <tr>\n",
       "      <th>...</th>\n",
       "      <td>...</td>\n",
       "      <td>...</td>\n",
       "      <td>...</td>\n",
       "      <td>...</td>\n",
       "      <td>...</td>\n",
       "      <td>...</td>\n",
       "      <td>...</td>\n",
       "      <td>...</td>\n",
       "    </tr>\n",
       "    <tr>\n",
       "      <th>1236198</th>\n",
       "      <td>2016-12-31 23:01:46</td>\n",
       "      <td>2016-12-31 23:14:20</td>\n",
       "      <td>8</td>\n",
       "      <td>33</td>\n",
       "      <td>Union Square - Brighton Ave at Cambridge St</td>\n",
       "      <td>Kenmore Square</td>\n",
       "      <td>230</td>\n",
       "      <td>Subscriber</td>\n",
       "    </tr>\n",
       "    <tr>\n",
       "      <th>1236199</th>\n",
       "      <td>2016-12-31 23:14:21</td>\n",
       "      <td>2016-12-31 23:18:03</td>\n",
       "      <td>190</td>\n",
       "      <td>6</td>\n",
       "      <td>Nashua Street at Red Auerbach Way</td>\n",
       "      <td>Cambridge St at Joy St</td>\n",
       "      <td>1420</td>\n",
       "      <td>Subscriber</td>\n",
       "    </tr>\n",
       "    <tr>\n",
       "      <th>1236200</th>\n",
       "      <td>2016-12-31 23:15:38</td>\n",
       "      <td>2016-12-31 23:24:43</td>\n",
       "      <td>33</td>\n",
       "      <td>36</td>\n",
       "      <td>Kenmore Square</td>\n",
       "      <td>Copley Square - Dartmouth St at Boylston St</td>\n",
       "      <td>230</td>\n",
       "      <td>Subscriber</td>\n",
       "    </tr>\n",
       "    <tr>\n",
       "      <th>1236201</th>\n",
       "      <td>2016-12-31 23:20:35</td>\n",
       "      <td>2016-12-31 23:27:58</td>\n",
       "      <td>90</td>\n",
       "      <td>141</td>\n",
       "      <td>Lechmere Station at Cambridge St / First St</td>\n",
       "      <td>Kendall Street</td>\n",
       "      <td>74</td>\n",
       "      <td>Subscriber</td>\n",
       "    </tr>\n",
       "    <tr>\n",
       "      <th>1236202</th>\n",
       "      <td>2016-12-31 23:34:18</td>\n",
       "      <td>2016-12-31 23:42:20</td>\n",
       "      <td>80</td>\n",
       "      <td>90</td>\n",
       "      <td>MIT Stata Center at Vassar St / Main St</td>\n",
       "      <td>Lechmere Station at Cambridge St / First St</td>\n",
       "      <td>309</td>\n",
       "      <td>Subscriber</td>\n",
       "    </tr>\n",
       "  </tbody>\n",
       "</table>\n",
       "<p>1236203 rows × 8 columns</p>\n",
       "</div>"
      ],
      "text/plain": [
       "                 start_time            end_time  start_station_id  \\\n",
       "0       2016-01-01 00:08:07 2016-01-01 00:40:26                36   \n",
       "1       2016-01-01 00:08:19 2016-01-01 00:40:27                36   \n",
       "2       2016-01-01 00:10:15 2016-01-01 00:40:29                36   \n",
       "3       2016-01-01 00:10:22 2016-01-01 00:40:11                36   \n",
       "4       2016-01-01 00:15:36 2016-01-01 00:31:17                36   \n",
       "...                     ...                 ...               ...   \n",
       "1236198 2016-12-31 23:01:46 2016-12-31 23:14:20                 8   \n",
       "1236199 2016-12-31 23:14:21 2016-12-31 23:18:03               190   \n",
       "1236200 2016-12-31 23:15:38 2016-12-31 23:24:43                33   \n",
       "1236201 2016-12-31 23:20:35 2016-12-31 23:27:58                90   \n",
       "1236202 2016-12-31 23:34:18 2016-12-31 23:42:20                80   \n",
       "\n",
       "         end_station_id                           start_station_name  \\\n",
       "0                    19     Boston Public Library - 700 Boylston St.   \n",
       "1                    19     Boston Public Library - 700 Boylston St.   \n",
       "2                    19     Boston Public Library - 700 Boylston St.   \n",
       "3                    19     Boston Public Library - 700 Boylston St.   \n",
       "4                    67     Boston Public Library - 700 Boylston St.   \n",
       "...                 ...                                          ...   \n",
       "1236198              33  Union Square - Brighton Ave at Cambridge St   \n",
       "1236199               6            Nashua Street at Red Auerbach Way   \n",
       "1236200              36                               Kenmore Square   \n",
       "1236201             141  Lechmere Station at Cambridge St / First St   \n",
       "1236202              90      MIT Stata Center at Vassar St / Main St   \n",
       "\n",
       "                                    end_station_name  bike_id   user_type  \n",
       "0                            Buswell St. at Park Dr.     1406  Subscriber  \n",
       "1                            Buswell St. at Park Dr.     1121  Subscriber  \n",
       "2                            Buswell St. at Park Dr.      474  Subscriber  \n",
       "3                            Buswell St. at Park Dr.     1504  Subscriber  \n",
       "4                       MIT at Mass Ave / Amherst St      913    Customer  \n",
       "...                                              ...      ...         ...  \n",
       "1236198                               Kenmore Square      230  Subscriber  \n",
       "1236199                       Cambridge St at Joy St     1420  Subscriber  \n",
       "1236200  Copley Square - Dartmouth St at Boylston St      230  Subscriber  \n",
       "1236201                               Kendall Street       74  Subscriber  \n",
       "1236202  Lechmere Station at Cambridge St / First St      309  Subscriber  \n",
       "\n",
       "[1236203 rows x 8 columns]"
      ]
     },
     "execution_count": 5,
     "metadata": {},
     "output_type": "execute_result"
    }
   ],
   "source": [
    "### change boston start_time and end_time from object to datetime, remove microseconds\n",
    "\n",
    "boston[\"start_time\"] = pd.to_datetime(boston[\"start_time\"])\n",
    "boston[\"start_time\"] = boston[\"start_time\"].apply(lambda x: x.replace(microsecond = 0))\n",
    "\n",
    "boston[\"end_time\"] = pd.to_datetime(boston[\"end_time\"])\n",
    "boston[\"end_time\"] = boston[\"end_time\"].apply(lambda x: x.replace(microsecond = 0))\n",
    "boston"
   ]
  },
  {
   "cell_type": "code",
   "execution_count": 6,
   "metadata": {},
   "outputs": [
    {
     "name": "stdout",
     "output_type": "stream",
     "text": [
      "<class 'pandas.core.frame.DataFrame'>\n",
      "RangeIndex: 1236203 entries, 0 to 1236202\n",
      "Data columns (total 8 columns):\n",
      " #   Column              Non-Null Count    Dtype         \n",
      "---  ------              --------------    -----         \n",
      " 0   start_time          1236203 non-null  datetime64[ns]\n",
      " 1   end_time            1236203 non-null  datetime64[ns]\n",
      " 2   start_station_id    1236203 non-null  int64         \n",
      " 3   end_station_id      1236203 non-null  int64         \n",
      " 4   start_station_name  1236203 non-null  object        \n",
      " 5   end_station_name    1236203 non-null  object        \n",
      " 6   bike_id             1236203 non-null  int64         \n",
      " 7   user_type           1236203 non-null  object        \n",
      "dtypes: datetime64[ns](2), int64(3), object(3)\n",
      "memory usage: 75.5+ MB\n"
     ]
    }
   ],
   "source": [
    "boston.info()"
   ]
  },
  {
   "cell_type": "markdown",
   "metadata": {},
   "source": [
    "### Data is sortet by start_time"
   ]
  },
  {
   "cell_type": "code",
   "execution_count": 7,
   "metadata": {},
   "outputs": [
    {
     "data": {
      "text/html": [
       "<div>\n",
       "<style scoped>\n",
       "    .dataframe tbody tr th:only-of-type {\n",
       "        vertical-align: middle;\n",
       "    }\n",
       "\n",
       "    .dataframe tbody tr th {\n",
       "        vertical-align: top;\n",
       "    }\n",
       "\n",
       "    .dataframe thead th {\n",
       "        text-align: right;\n",
       "    }\n",
       "</style>\n",
       "<table border=\"1\" class=\"dataframe\">\n",
       "  <thead>\n",
       "    <tr style=\"text-align: right;\">\n",
       "      <th></th>\n",
       "      <th>start_time</th>\n",
       "      <th>end_time</th>\n",
       "      <th>start_station_id</th>\n",
       "      <th>end_station_id</th>\n",
       "      <th>start_station_name</th>\n",
       "      <th>end_station_name</th>\n",
       "      <th>bike_id</th>\n",
       "      <th>user_type</th>\n",
       "      <th>trip_duration</th>\n",
       "    </tr>\n",
       "  </thead>\n",
       "  <tbody>\n",
       "    <tr>\n",
       "      <th>0</th>\n",
       "      <td>2016-01-01 00:08:07</td>\n",
       "      <td>2016-01-01 00:40:26</td>\n",
       "      <td>36</td>\n",
       "      <td>19</td>\n",
       "      <td>Boston Public Library - 700 Boylston St.</td>\n",
       "      <td>Buswell St. at Park Dr.</td>\n",
       "      <td>1406</td>\n",
       "      <td>Subscriber</td>\n",
       "      <td>0 days 00:32:19</td>\n",
       "    </tr>\n",
       "    <tr>\n",
       "      <th>1</th>\n",
       "      <td>2016-01-01 00:08:19</td>\n",
       "      <td>2016-01-01 00:40:27</td>\n",
       "      <td>36</td>\n",
       "      <td>19</td>\n",
       "      <td>Boston Public Library - 700 Boylston St.</td>\n",
       "      <td>Buswell St. at Park Dr.</td>\n",
       "      <td>1121</td>\n",
       "      <td>Subscriber</td>\n",
       "      <td>0 days 00:32:08</td>\n",
       "    </tr>\n",
       "    <tr>\n",
       "      <th>2</th>\n",
       "      <td>2016-01-01 00:10:15</td>\n",
       "      <td>2016-01-01 00:40:29</td>\n",
       "      <td>36</td>\n",
       "      <td>19</td>\n",
       "      <td>Boston Public Library - 700 Boylston St.</td>\n",
       "      <td>Buswell St. at Park Dr.</td>\n",
       "      <td>474</td>\n",
       "      <td>Subscriber</td>\n",
       "      <td>0 days 00:30:14</td>\n",
       "    </tr>\n",
       "    <tr>\n",
       "      <th>3</th>\n",
       "      <td>2016-01-01 00:10:22</td>\n",
       "      <td>2016-01-01 00:40:11</td>\n",
       "      <td>36</td>\n",
       "      <td>19</td>\n",
       "      <td>Boston Public Library - 700 Boylston St.</td>\n",
       "      <td>Buswell St. at Park Dr.</td>\n",
       "      <td>1504</td>\n",
       "      <td>Subscriber</td>\n",
       "      <td>0 days 00:29:49</td>\n",
       "    </tr>\n",
       "    <tr>\n",
       "      <th>4</th>\n",
       "      <td>2016-01-01 00:15:36</td>\n",
       "      <td>2016-01-01 00:31:17</td>\n",
       "      <td>36</td>\n",
       "      <td>67</td>\n",
       "      <td>Boston Public Library - 700 Boylston St.</td>\n",
       "      <td>MIT at Mass Ave / Amherst St</td>\n",
       "      <td>913</td>\n",
       "      <td>Customer</td>\n",
       "      <td>0 days 00:15:41</td>\n",
       "    </tr>\n",
       "    <tr>\n",
       "      <th>...</th>\n",
       "      <td>...</td>\n",
       "      <td>...</td>\n",
       "      <td>...</td>\n",
       "      <td>...</td>\n",
       "      <td>...</td>\n",
       "      <td>...</td>\n",
       "      <td>...</td>\n",
       "      <td>...</td>\n",
       "      <td>...</td>\n",
       "    </tr>\n",
       "    <tr>\n",
       "      <th>1236198</th>\n",
       "      <td>2016-12-31 23:01:46</td>\n",
       "      <td>2016-12-31 23:14:20</td>\n",
       "      <td>8</td>\n",
       "      <td>33</td>\n",
       "      <td>Union Square - Brighton Ave at Cambridge St</td>\n",
       "      <td>Kenmore Square</td>\n",
       "      <td>230</td>\n",
       "      <td>Subscriber</td>\n",
       "      <td>0 days 00:12:34</td>\n",
       "    </tr>\n",
       "    <tr>\n",
       "      <th>1236199</th>\n",
       "      <td>2016-12-31 23:14:21</td>\n",
       "      <td>2016-12-31 23:18:03</td>\n",
       "      <td>190</td>\n",
       "      <td>6</td>\n",
       "      <td>Nashua Street at Red Auerbach Way</td>\n",
       "      <td>Cambridge St at Joy St</td>\n",
       "      <td>1420</td>\n",
       "      <td>Subscriber</td>\n",
       "      <td>0 days 00:03:42</td>\n",
       "    </tr>\n",
       "    <tr>\n",
       "      <th>1236200</th>\n",
       "      <td>2016-12-31 23:15:38</td>\n",
       "      <td>2016-12-31 23:24:43</td>\n",
       "      <td>33</td>\n",
       "      <td>36</td>\n",
       "      <td>Kenmore Square</td>\n",
       "      <td>Copley Square - Dartmouth St at Boylston St</td>\n",
       "      <td>230</td>\n",
       "      <td>Subscriber</td>\n",
       "      <td>0 days 00:09:05</td>\n",
       "    </tr>\n",
       "    <tr>\n",
       "      <th>1236201</th>\n",
       "      <td>2016-12-31 23:20:35</td>\n",
       "      <td>2016-12-31 23:27:58</td>\n",
       "      <td>90</td>\n",
       "      <td>141</td>\n",
       "      <td>Lechmere Station at Cambridge St / First St</td>\n",
       "      <td>Kendall Street</td>\n",
       "      <td>74</td>\n",
       "      <td>Subscriber</td>\n",
       "      <td>0 days 00:07:23</td>\n",
       "    </tr>\n",
       "    <tr>\n",
       "      <th>1236202</th>\n",
       "      <td>2016-12-31 23:34:18</td>\n",
       "      <td>2016-12-31 23:42:20</td>\n",
       "      <td>80</td>\n",
       "      <td>90</td>\n",
       "      <td>MIT Stata Center at Vassar St / Main St</td>\n",
       "      <td>Lechmere Station at Cambridge St / First St</td>\n",
       "      <td>309</td>\n",
       "      <td>Subscriber</td>\n",
       "      <td>0 days 00:08:02</td>\n",
       "    </tr>\n",
       "  </tbody>\n",
       "</table>\n",
       "<p>1236203 rows × 9 columns</p>\n",
       "</div>"
      ],
      "text/plain": [
       "                 start_time            end_time  start_station_id  \\\n",
       "0       2016-01-01 00:08:07 2016-01-01 00:40:26                36   \n",
       "1       2016-01-01 00:08:19 2016-01-01 00:40:27                36   \n",
       "2       2016-01-01 00:10:15 2016-01-01 00:40:29                36   \n",
       "3       2016-01-01 00:10:22 2016-01-01 00:40:11                36   \n",
       "4       2016-01-01 00:15:36 2016-01-01 00:31:17                36   \n",
       "...                     ...                 ...               ...   \n",
       "1236198 2016-12-31 23:01:46 2016-12-31 23:14:20                 8   \n",
       "1236199 2016-12-31 23:14:21 2016-12-31 23:18:03               190   \n",
       "1236200 2016-12-31 23:15:38 2016-12-31 23:24:43                33   \n",
       "1236201 2016-12-31 23:20:35 2016-12-31 23:27:58                90   \n",
       "1236202 2016-12-31 23:34:18 2016-12-31 23:42:20                80   \n",
       "\n",
       "         end_station_id                           start_station_name  \\\n",
       "0                    19     Boston Public Library - 700 Boylston St.   \n",
       "1                    19     Boston Public Library - 700 Boylston St.   \n",
       "2                    19     Boston Public Library - 700 Boylston St.   \n",
       "3                    19     Boston Public Library - 700 Boylston St.   \n",
       "4                    67     Boston Public Library - 700 Boylston St.   \n",
       "...                 ...                                          ...   \n",
       "1236198              33  Union Square - Brighton Ave at Cambridge St   \n",
       "1236199               6            Nashua Street at Red Auerbach Way   \n",
       "1236200              36                               Kenmore Square   \n",
       "1236201             141  Lechmere Station at Cambridge St / First St   \n",
       "1236202              90      MIT Stata Center at Vassar St / Main St   \n",
       "\n",
       "                                    end_station_name  bike_id   user_type  \\\n",
       "0                            Buswell St. at Park Dr.     1406  Subscriber   \n",
       "1                            Buswell St. at Park Dr.     1121  Subscriber   \n",
       "2                            Buswell St. at Park Dr.      474  Subscriber   \n",
       "3                            Buswell St. at Park Dr.     1504  Subscriber   \n",
       "4                       MIT at Mass Ave / Amherst St      913    Customer   \n",
       "...                                              ...      ...         ...   \n",
       "1236198                               Kenmore Square      230  Subscriber   \n",
       "1236199                       Cambridge St at Joy St     1420  Subscriber   \n",
       "1236200  Copley Square - Dartmouth St at Boylston St      230  Subscriber   \n",
       "1236201                               Kendall Street       74  Subscriber   \n",
       "1236202  Lechmere Station at Cambridge St / First St      309  Subscriber   \n",
       "\n",
       "          trip_duration  \n",
       "0       0 days 00:32:19  \n",
       "1       0 days 00:32:08  \n",
       "2       0 days 00:30:14  \n",
       "3       0 days 00:29:49  \n",
       "4       0 days 00:15:41  \n",
       "...                 ...  \n",
       "1236198 0 days 00:12:34  \n",
       "1236199 0 days 00:03:42  \n",
       "1236200 0 days 00:09:05  \n",
       "1236201 0 days 00:07:23  \n",
       "1236202 0 days 00:08:02  \n",
       "\n",
       "[1236203 rows x 9 columns]"
      ]
     },
     "execution_count": 7,
     "metadata": {},
     "output_type": "execute_result"
    }
   ],
   "source": [
    "### add the trip duration as timedelta for each tour\n",
    "\n",
    "boston[\"trip_duration\"] = boston[\"end_time\"] - boston[\"start_time\"]\n",
    "boston"
   ]
  },
  {
   "cell_type": "code",
   "execution_count": 8,
   "metadata": {},
   "outputs": [
    {
     "name": "stdout",
     "output_type": "stream",
     "text": [
      "<class 'pandas.core.frame.DataFrame'>\n",
      "RangeIndex: 1236203 entries, 0 to 1236202\n",
      "Data columns (total 9 columns):\n",
      " #   Column              Non-Null Count    Dtype          \n",
      "---  ------              --------------    -----          \n",
      " 0   start_time          1236203 non-null  datetime64[ns] \n",
      " 1   end_time            1236203 non-null  datetime64[ns] \n",
      " 2   start_station_id    1236203 non-null  int64          \n",
      " 3   end_station_id      1236203 non-null  int64          \n",
      " 4   start_station_name  1236203 non-null  object         \n",
      " 5   end_station_name    1236203 non-null  object         \n",
      " 6   bike_id             1236203 non-null  int64          \n",
      " 7   user_type           1236203 non-null  object         \n",
      " 8   trip_duration       1236203 non-null  timedelta64[ns]\n",
      "dtypes: datetime64[ns](2), int64(3), object(3), timedelta64[ns](1)\n",
      "memory usage: 84.9+ MB\n"
     ]
    }
   ],
   "source": [
    "boston.info()"
   ]
  },
  {
   "cell_type": "markdown",
   "metadata": {},
   "source": [
    "### Gather information"
   ]
  },
  {
   "cell_type": "code",
   "execution_count": 9,
   "metadata": {},
   "outputs": [
    {
     "data": {
      "text/plain": [
       "start_time            1176852\n",
       "end_time              1175109\n",
       "start_station_id          189\n",
       "end_station_id            189\n",
       "start_station_name        276\n",
       "end_station_name          276\n",
       "bike_id                  1802\n",
       "user_type                   2\n",
       "trip_duration           14031\n",
       "dtype: int64"
      ]
     },
     "execution_count": 9,
     "metadata": {},
     "output_type": "execute_result"
    }
   ],
   "source": [
    "boston.nunique()"
   ]
  },
  {
   "cell_type": "markdown",
   "metadata": {},
   "source": [
    "### 189 distinct start and end station_ids, but 276 distinct start and end station_names \n",
    "### 1802 bike ids\n",
    "### 2 User types"
   ]
  },
  {
   "cell_type": "code",
   "execution_count": 10,
   "metadata": {},
   "outputs": [
    {
     "data": {
      "text/plain": [
       "start_station_id\n",
       "1      1\n",
       "3      2\n",
       "4      2\n",
       "5      2\n",
       "6      2\n",
       "      ..\n",
       "215    2\n",
       "216    1\n",
       "217    1\n",
       "218    2\n",
       "219    2\n",
       "Name: start_station_name, Length: 189, dtype: int64"
      ]
     },
     "execution_count": 10,
     "metadata": {},
     "output_type": "execute_result"
    }
   ],
   "source": [
    "boston.groupby('start_station_id').start_station_name.nunique()"
   ]
  },
  {
   "cell_type": "code",
   "execution_count": 11,
   "metadata": {},
   "outputs": [
    {
     "data": {
      "text/plain": [
       "start_station_id\n",
       "1                                [18 Dorrance Warehouse]\n",
       "3      [Colleges of the Fenway, Colleges of the Fenwa...\n",
       "4      [Tremont St. at Berkeley St., Tremont St at E ...\n",
       "5      [Northeastern U / North Parking Lot, Northeast...\n",
       "6      [Cambridge St. at Joy St., Cambridge St at Joy...\n",
       "                             ...                        \n",
       "215    [The Eddy at New Street, The Eddy - New St at ...\n",
       "216                            [Glendon St at Condor St]\n",
       "217    [Orient Heights T Stop - Bennington St at Sara...\n",
       "218    [Watermark Seaport, Watermark Seaport - Boston...\n",
       "219    [Central Square East Boston - Porter Street at...\n",
       "Name: start_station_name, Length: 189, dtype: object"
      ]
     },
     "execution_count": 11,
     "metadata": {},
     "output_type": "execute_result"
    }
   ],
   "source": [
    "boston.groupby('start_station_id').start_station_name.unique()"
   ]
  },
  {
   "cell_type": "markdown",
   "metadata": {},
   "source": [
    "### Some station ids have 2 station names assigned, possibly because they were renamed\n",
    "### for example The Eddy at New Street and The Eddy - New St at Sumemer St with station_id 215"
   ]
  },
  {
   "cell_type": "markdown",
   "metadata": {},
   "source": []
  },
  {
   "cell_type": "markdown",
   "metadata": {},
   "source": [
    "### trip duration analysis"
   ]
  },
  {
   "cell_type": "code",
   "execution_count": 12,
   "metadata": {},
   "outputs": [
    {
     "name": "stdout",
     "output_type": "stream",
     "text": [
      "346 days 03:14:39\n"
     ]
    }
   ],
   "source": [
    "print(boston[\"trip_duration\"].max())"
   ]
  },
  {
   "cell_type": "code",
   "execution_count": 13,
   "metadata": {},
   "outputs": [
    {
     "name": "stdout",
     "output_type": "stream",
     "text": [
      "-1 days +23:06:24\n"
     ]
    }
   ],
   "source": [
    "print(boston[\"trip_duration\"].min())"
   ]
  },
  {
   "cell_type": "code",
   "execution_count": 14,
   "metadata": {},
   "outputs": [
    {
     "name": "stdout",
     "output_type": "stream",
     "text": [
      "0 days 00:22:45.223969687\n"
     ]
    }
   ],
   "source": [
    "print(boston[\"trip_duration\"].mean())"
   ]
  },
  {
   "cell_type": "markdown",
   "metadata": {},
   "source": [
    "### max trip duration almost a year and min duration negative, cleaning needed\n",
    "\n",
    "https://help.bluebikes.com/hc/en-us/articles/360034926492-How-long-can-I-keep-a-bike-out-\n",
    "https://help.bluebikes.com/hc/en-us/articles/360034926452-What-if-I-keep-a-bike-out-too-long-\n",
    "\n",
    "### longest pass allows 2 hours, every 30 minutes cost extra 2,5 or 2$ (Income eligible members)\n",
    "### single rides 30 min\n",
    "### monthly and anual membership 45 min \n",
    "### adventure pass up to 2 hours\n",
    "### Income eligible members (qualified for a discounted monthly or annual memberships) 60 min\n",
    "\n",
    "### if the bike is not returned after 24 hours, a stolen/lost bike fee will be charged of 1200$ + tax\n",
    "\n"
   ]
  },
  {
   "cell_type": "code",
   "execution_count": 15,
   "metadata": {},
   "outputs": [],
   "source": [
    "### define some timedeltas for trip_duration check\n",
    "\n",
    "### time_delta for 0 Minutes\n",
    "date1 = pd.Timedelta(pd.offsets.Minute(0))\n",
    "\n",
    "### time_delta for 2 Hours\n",
    "date2 = pd.Timedelta(pd.offsets.Hour(2))\n",
    "\n",
    "### time_delta for 1 Day\n",
    "date3 = pd.Timedelta(pd.offsets.Day(1))\n"
   ]
  },
  {
   "cell_type": "code",
   "execution_count": 16,
   "metadata": {},
   "outputs": [
    {
     "data": {
      "text/plain": [
       "1079"
      ]
     },
     "execution_count": 16,
     "metadata": {},
     "output_type": "execute_result"
    }
   ],
   "source": [
    "### nb. of trips over 24 hours\n",
    "len(boston.loc[boston.trip_duration > date3])"
   ]
  },
  {
   "cell_type": "code",
   "execution_count": 17,
   "metadata": {},
   "outputs": [
    {
     "data": {
      "text/plain": [
       "3"
      ]
     },
     "execution_count": 17,
     "metadata": {},
     "output_type": "execute_result"
    }
   ],
   "source": [
    "### nb. of trips with negaive time\n",
    "len(boston.loc[boston.trip_duration < date1])"
   ]
  },
  {
   "cell_type": "code",
   "execution_count": 18,
   "metadata": {},
   "outputs": [
    {
     "data": {
      "text/plain": [
       "8627"
      ]
     },
     "execution_count": 18,
     "metadata": {},
     "output_type": "execute_result"
    }
   ],
   "source": [
    "### nb. of trips over 2 hours \n",
    "len(boston.loc[boston.trip_duration > date2])"
   ]
  },
  {
   "cell_type": "code",
   "execution_count": 19,
   "metadata": {},
   "outputs": [
    {
     "name": "stdout",
     "output_type": "stream",
     "text": [
      "7548\n"
     ]
    }
   ],
   "source": [
    "### nb. of trips over 2 hours and under 24 hours\n",
    "print((len(boston.loc[boston.trip_duration > date2]) - len(boston.loc[boston.trip_duration > date3]) ))"
   ]
  },
  {
   "cell_type": "markdown",
   "metadata": {},
   "source": [
    "### remove negative trip duration and the trips over 24 hours"
   ]
  },
  {
   "cell_type": "code",
   "execution_count": 20,
   "metadata": {},
   "outputs": [
    {
     "name": "stdout",
     "output_type": "stream",
     "text": [
      "<class 'pandas.core.frame.DataFrame'>\n",
      "Int64Index: 1235121 entries, 0 to 1236202\n",
      "Data columns (total 9 columns):\n",
      " #   Column              Non-Null Count    Dtype          \n",
      "---  ------              --------------    -----          \n",
      " 0   start_time          1235121 non-null  datetime64[ns] \n",
      " 1   end_time            1235121 non-null  datetime64[ns] \n",
      " 2   start_station_id    1235121 non-null  int64          \n",
      " 3   end_station_id      1235121 non-null  int64          \n",
      " 4   start_station_name  1235121 non-null  object         \n",
      " 5   end_station_name    1235121 non-null  object         \n",
      " 6   bike_id             1235121 non-null  int64          \n",
      " 7   user_type           1235121 non-null  object         \n",
      " 8   trip_duration       1235121 non-null  timedelta64[ns]\n",
      "dtypes: datetime64[ns](2), int64(3), object(3), timedelta64[ns](1)\n",
      "memory usage: 94.2+ MB\n"
     ]
    }
   ],
   "source": [
    "bostonC = boston[(boston[\"trip_duration\"] > date1) & (boston[\"trip_duration\"] < date3)]\n",
    "bostonC.info()"
   ]
  },
  {
   "cell_type": "code",
   "execution_count": 21,
   "metadata": {},
   "outputs": [
    {
     "name": "stdout",
     "output_type": "stream",
     "text": [
      "0 days 23:56:42\n"
     ]
    }
   ],
   "source": [
    "print(bostonC[\"trip_duration\"].max())"
   ]
  },
  {
   "cell_type": "code",
   "execution_count": 22,
   "metadata": {},
   "outputs": [
    {
     "name": "stdout",
     "output_type": "stream",
     "text": [
      "0 days 00:01:01\n"
     ]
    }
   ],
   "source": [
    "print(bostonC[\"trip_duration\"].min())"
   ]
  },
  {
   "cell_type": "code",
   "execution_count": 23,
   "metadata": {},
   "outputs": [
    {
     "name": "stdout",
     "output_type": "stream",
     "text": [
      "0 days 00:15:55.161627079\n"
     ]
    }
   ],
   "source": [
    "print(bostonC[\"trip_duration\"].mean())"
   ]
  },
  {
   "cell_type": "code",
   "execution_count": 24,
   "metadata": {},
   "outputs": [
    {
     "data": {
      "text/plain": [
       "7548"
      ]
     },
     "execution_count": 24,
     "metadata": {},
     "output_type": "execute_result"
    }
   ],
   "source": [
    "### nb. of trips over 2 hours \n",
    "len(bostonC.loc[bostonC.trip_duration > date2])"
   ]
  },
  {
   "cell_type": "code",
   "execution_count": 25,
   "metadata": {},
   "outputs": [
    {
     "data": {
      "text/plain": [
       "4297"
      ]
     },
     "execution_count": 25,
     "metadata": {},
     "output_type": "execute_result"
    }
   ],
   "source": [
    "### nb. of trips over 3 hours \n",
    "\n",
    "date4 = pd.Timedelta(pd.offsets.Hour(3))\n",
    "\n",
    "len(bostonC.loc[bostonC.trip_duration > date4])"
   ]
  },
  {
   "cell_type": "code",
   "execution_count": 26,
   "metadata": {},
   "outputs": [
    {
     "data": {
      "text/plain": [
       "2973"
      ]
     },
     "execution_count": 26,
     "metadata": {},
     "output_type": "execute_result"
    }
   ],
   "source": [
    "### nb. of trips over 4 hours \n",
    "\n",
    "date5 = pd.Timedelta(pd.offsets.Hour(4))\n",
    "\n",
    "len(bostonC.loc[bostonC.trip_duration > date5])"
   ]
  },
  {
   "cell_type": "code",
   "execution_count": 27,
   "metadata": {},
   "outputs": [
    {
     "data": {
      "text/plain": [
       "2295"
      ]
     },
     "execution_count": 27,
     "metadata": {},
     "output_type": "execute_result"
    }
   ],
   "source": [
    "### nb. of trips over 5 hours \n",
    "\n",
    "date6 = pd.Timedelta(pd.offsets.Hour(5))\n",
    "\n",
    "len(bostonC.loc[bostonC.trip_duration > date6])"
   ]
  },
  {
   "cell_type": "code",
   "execution_count": 28,
   "metadata": {},
   "outputs": [
    {
     "data": {
      "text/plain": [
       "1917"
      ]
     },
     "execution_count": 28,
     "metadata": {},
     "output_type": "execute_result"
    }
   ],
   "source": [
    "### nb. of trips over 6 hours \n",
    "\n",
    "date7 = pd.Timedelta(pd.offsets.Hour(6))\n",
    "\n",
    "len(bostonC.loc[bostonC.trip_duration > date7])"
   ]
  },
  {
   "cell_type": "markdown",
   "metadata": {},
   "source": [
    "### ---"
   ]
  },
  {
   "cell_type": "code",
   "execution_count": 29,
   "metadata": {},
   "outputs": [],
   "source": [
    "# Let's map time of day and day of week to our DF\n",
    "\n",
    "def get_date (ts):\n",
    "    return ts.date()\n",
    "\n",
    "def get_month (ts):\n",
    "    return ts.month()\n",
    "\n",
    "def get_weekday (ts):\n",
    "    return ts.weekday()\n",
    "\n",
    "def get_hour (ts):\n",
    "    return ts.hour\n",
    "\n",
    "def get_minute (ts):\n",
    "    return ts.minute"
   ]
  },
  {
   "cell_type": "code",
   "execution_count": 30,
   "metadata": {},
   "outputs": [],
   "source": [
    "### add date, weekday, hour and minute from start_time\n",
    "#bostonC[\"date\"] = bostonC[\"start_time\"].apply(lambda ts: get_date (ts))\n",
    "#bostonC[\"weekday\"] = bostonC[\"start_time\"].apply(lambda ts: get_weekday (ts))\n",
    "\n",
    "\n",
    "#bostonC[\"hour\"] = bostonC[\"start_time\"].apply(lambda x: get_hour (x))\n",
    "\n",
    "#bostonC[\"minute\"] = bostonC[\"start_time\"].apply(lambda x: get_minute (x))\n",
    "\n",
    "#### SettingWithCopyWarning"
   ]
  },
  {
   "cell_type": "code",
   "execution_count": 31,
   "metadata": {},
   "outputs": [
    {
     "name": "stderr",
     "output_type": "stream",
     "text": [
      "<ipython-input-31-25c044352f2f>:1: SettingWithCopyWarning: \n",
      "A value is trying to be set on a copy of a slice from a DataFrame.\n",
      "Try using .loc[row_indexer,col_indexer] = value instead\n",
      "\n",
      "See the caveats in the documentation: https://pandas.pydata.org/pandas-docs/stable/user_guide/indexing.html#returning-a-view-versus-a-copy\n",
      "  bostonC[\"date\"] = pd.DatetimeIndex(bostonC[\"start_time\"]).date\n",
      "<ipython-input-31-25c044352f2f>:2: SettingWithCopyWarning: \n",
      "A value is trying to be set on a copy of a slice from a DataFrame.\n",
      "Try using .loc[row_indexer,col_indexer] = value instead\n",
      "\n",
      "See the caveats in the documentation: https://pandas.pydata.org/pandas-docs/stable/user_guide/indexing.html#returning-a-view-versus-a-copy\n",
      "  bostonC[\"month\"] = pd.DatetimeIndex(bostonC[\"start_time\"]).month\n",
      "<ipython-input-31-25c044352f2f>:3: SettingWithCopyWarning: \n",
      "A value is trying to be set on a copy of a slice from a DataFrame.\n",
      "Try using .loc[row_indexer,col_indexer] = value instead\n",
      "\n",
      "See the caveats in the documentation: https://pandas.pydata.org/pandas-docs/stable/user_guide/indexing.html#returning-a-view-versus-a-copy\n",
      "  bostonC[\"weekday\"] = pd.DatetimeIndex(bostonC[\"start_time\"]).weekday\n",
      "<ipython-input-31-25c044352f2f>:4: SettingWithCopyWarning: \n",
      "A value is trying to be set on a copy of a slice from a DataFrame.\n",
      "Try using .loc[row_indexer,col_indexer] = value instead\n",
      "\n",
      "See the caveats in the documentation: https://pandas.pydata.org/pandas-docs/stable/user_guide/indexing.html#returning-a-view-versus-a-copy\n",
      "  bostonC[\"hour\"] = pd.DatetimeIndex(bostonC[\"start_time\"]).hour\n",
      "<ipython-input-31-25c044352f2f>:5: SettingWithCopyWarning: \n",
      "A value is trying to be set on a copy of a slice from a DataFrame.\n",
      "Try using .loc[row_indexer,col_indexer] = value instead\n",
      "\n",
      "See the caveats in the documentation: https://pandas.pydata.org/pandas-docs/stable/user_guide/indexing.html#returning-a-view-versus-a-copy\n",
      "  bostonC[\"minute\"] = pd.DatetimeIndex(bostonC[\"start_time\"]).minute\n"
     ]
    }
   ],
   "source": [
    "\n",
    "bostonC[\"date\"] = pd.DatetimeIndex(bostonC[\"start_time\"]).date\n",
    "bostonC[\"month\"] = pd.DatetimeIndex(bostonC[\"start_time\"]).month\n",
    "bostonC[\"weekday\"] = pd.DatetimeIndex(bostonC[\"start_time\"]).weekday\n",
    "bostonC[\"hour\"] = pd.DatetimeIndex(bostonC[\"start_time\"]).hour\n",
    "bostonC[\"minute\"] = pd.DatetimeIndex(bostonC[\"start_time\"]).minute\n",
    "\n",
    "\n",
    "\n"
   ]
  },
  {
   "cell_type": "code",
   "execution_count": 32,
   "metadata": {},
   "outputs": [
    {
     "name": "stderr",
     "output_type": "stream",
     "text": [
      "<ipython-input-32-5f61653f812c>:1: SettingWithCopyWarning: \n",
      "A value is trying to be set on a copy of a slice from a DataFrame.\n",
      "Try using .loc[row_indexer,col_indexer] = value instead\n",
      "\n",
      "See the caveats in the documentation: https://pandas.pydata.org/pandas-docs/stable/user_guide/indexing.html#returning-a-view-versus-a-copy\n",
      "  bostonC[\"date\"] = pd.to_datetime(bostonC[\"date\"])\n"
     ]
    }
   ],
   "source": [
    "bostonC[\"date\"] = pd.to_datetime(bostonC[\"date\"])"
   ]
  },
  {
   "cell_type": "code",
   "execution_count": 33,
   "metadata": {},
   "outputs": [
    {
     "name": "stdout",
     "output_type": "stream",
     "text": [
      "<class 'pandas.core.frame.DataFrame'>\n",
      "Int64Index: 1235121 entries, 0 to 1236202\n",
      "Data columns (total 14 columns):\n",
      " #   Column              Non-Null Count    Dtype          \n",
      "---  ------              --------------    -----          \n",
      " 0   start_time          1235121 non-null  datetime64[ns] \n",
      " 1   end_time            1235121 non-null  datetime64[ns] \n",
      " 2   start_station_id    1235121 non-null  int64          \n",
      " 3   end_station_id      1235121 non-null  int64          \n",
      " 4   start_station_name  1235121 non-null  object         \n",
      " 5   end_station_name    1235121 non-null  object         \n",
      " 6   bike_id             1235121 non-null  int64          \n",
      " 7   user_type           1235121 non-null  object         \n",
      " 8   trip_duration       1235121 non-null  timedelta64[ns]\n",
      " 9   date                1235121 non-null  datetime64[ns] \n",
      " 10  month               1235121 non-null  int64          \n",
      " 11  weekday             1235121 non-null  int64          \n",
      " 12  hour                1235121 non-null  int64          \n",
      " 13  minute              1235121 non-null  int64          \n",
      "dtypes: datetime64[ns](3), int64(7), object(3), timedelta64[ns](1)\n",
      "memory usage: 141.3+ MB\n"
     ]
    }
   ],
   "source": [
    "bostonC.info()"
   ]
  },
  {
   "cell_type": "code",
   "execution_count": 34,
   "metadata": {},
   "outputs": [
    {
     "data": {
      "text/html": [
       "<div>\n",
       "<style scoped>\n",
       "    .dataframe tbody tr th:only-of-type {\n",
       "        vertical-align: middle;\n",
       "    }\n",
       "\n",
       "    .dataframe tbody tr th {\n",
       "        vertical-align: top;\n",
       "    }\n",
       "\n",
       "    .dataframe thead th {\n",
       "        text-align: right;\n",
       "    }\n",
       "</style>\n",
       "<table border=\"1\" class=\"dataframe\">\n",
       "  <thead>\n",
       "    <tr style=\"text-align: right;\">\n",
       "      <th></th>\n",
       "      <th>start_time</th>\n",
       "      <th>end_time</th>\n",
       "      <th>start_station_id</th>\n",
       "      <th>end_station_id</th>\n",
       "      <th>start_station_name</th>\n",
       "      <th>end_station_name</th>\n",
       "      <th>bike_id</th>\n",
       "      <th>user_type</th>\n",
       "      <th>trip_duration</th>\n",
       "      <th>date</th>\n",
       "      <th>month</th>\n",
       "      <th>weekday</th>\n",
       "      <th>hour</th>\n",
       "      <th>minute</th>\n",
       "    </tr>\n",
       "  </thead>\n",
       "  <tbody>\n",
       "    <tr>\n",
       "      <th>0</th>\n",
       "      <td>2016-01-01 00:08:07</td>\n",
       "      <td>2016-01-01 00:40:26</td>\n",
       "      <td>36</td>\n",
       "      <td>19</td>\n",
       "      <td>Boston Public Library - 700 Boylston St.</td>\n",
       "      <td>Buswell St. at Park Dr.</td>\n",
       "      <td>1406</td>\n",
       "      <td>Subscriber</td>\n",
       "      <td>0 days 00:32:19</td>\n",
       "      <td>2016-01-01</td>\n",
       "      <td>1</td>\n",
       "      <td>4</td>\n",
       "      <td>0</td>\n",
       "      <td>8</td>\n",
       "    </tr>\n",
       "    <tr>\n",
       "      <th>1</th>\n",
       "      <td>2016-01-01 00:08:19</td>\n",
       "      <td>2016-01-01 00:40:27</td>\n",
       "      <td>36</td>\n",
       "      <td>19</td>\n",
       "      <td>Boston Public Library - 700 Boylston St.</td>\n",
       "      <td>Buswell St. at Park Dr.</td>\n",
       "      <td>1121</td>\n",
       "      <td>Subscriber</td>\n",
       "      <td>0 days 00:32:08</td>\n",
       "      <td>2016-01-01</td>\n",
       "      <td>1</td>\n",
       "      <td>4</td>\n",
       "      <td>0</td>\n",
       "      <td>8</td>\n",
       "    </tr>\n",
       "    <tr>\n",
       "      <th>2</th>\n",
       "      <td>2016-01-01 00:10:15</td>\n",
       "      <td>2016-01-01 00:40:29</td>\n",
       "      <td>36</td>\n",
       "      <td>19</td>\n",
       "      <td>Boston Public Library - 700 Boylston St.</td>\n",
       "      <td>Buswell St. at Park Dr.</td>\n",
       "      <td>474</td>\n",
       "      <td>Subscriber</td>\n",
       "      <td>0 days 00:30:14</td>\n",
       "      <td>2016-01-01</td>\n",
       "      <td>1</td>\n",
       "      <td>4</td>\n",
       "      <td>0</td>\n",
       "      <td>10</td>\n",
       "    </tr>\n",
       "    <tr>\n",
       "      <th>3</th>\n",
       "      <td>2016-01-01 00:10:22</td>\n",
       "      <td>2016-01-01 00:40:11</td>\n",
       "      <td>36</td>\n",
       "      <td>19</td>\n",
       "      <td>Boston Public Library - 700 Boylston St.</td>\n",
       "      <td>Buswell St. at Park Dr.</td>\n",
       "      <td>1504</td>\n",
       "      <td>Subscriber</td>\n",
       "      <td>0 days 00:29:49</td>\n",
       "      <td>2016-01-01</td>\n",
       "      <td>1</td>\n",
       "      <td>4</td>\n",
       "      <td>0</td>\n",
       "      <td>10</td>\n",
       "    </tr>\n",
       "    <tr>\n",
       "      <th>4</th>\n",
       "      <td>2016-01-01 00:15:36</td>\n",
       "      <td>2016-01-01 00:31:17</td>\n",
       "      <td>36</td>\n",
       "      <td>67</td>\n",
       "      <td>Boston Public Library - 700 Boylston St.</td>\n",
       "      <td>MIT at Mass Ave / Amherst St</td>\n",
       "      <td>913</td>\n",
       "      <td>Customer</td>\n",
       "      <td>0 days 00:15:41</td>\n",
       "      <td>2016-01-01</td>\n",
       "      <td>1</td>\n",
       "      <td>4</td>\n",
       "      <td>0</td>\n",
       "      <td>15</td>\n",
       "    </tr>\n",
       "    <tr>\n",
       "      <th>...</th>\n",
       "      <td>...</td>\n",
       "      <td>...</td>\n",
       "      <td>...</td>\n",
       "      <td>...</td>\n",
       "      <td>...</td>\n",
       "      <td>...</td>\n",
       "      <td>...</td>\n",
       "      <td>...</td>\n",
       "      <td>...</td>\n",
       "      <td>...</td>\n",
       "      <td>...</td>\n",
       "      <td>...</td>\n",
       "      <td>...</td>\n",
       "      <td>...</td>\n",
       "    </tr>\n",
       "    <tr>\n",
       "      <th>1236198</th>\n",
       "      <td>2016-12-31 23:01:46</td>\n",
       "      <td>2016-12-31 23:14:20</td>\n",
       "      <td>8</td>\n",
       "      <td>33</td>\n",
       "      <td>Union Square - Brighton Ave at Cambridge St</td>\n",
       "      <td>Kenmore Square</td>\n",
       "      <td>230</td>\n",
       "      <td>Subscriber</td>\n",
       "      <td>0 days 00:12:34</td>\n",
       "      <td>2016-12-31</td>\n",
       "      <td>12</td>\n",
       "      <td>5</td>\n",
       "      <td>23</td>\n",
       "      <td>1</td>\n",
       "    </tr>\n",
       "    <tr>\n",
       "      <th>1236199</th>\n",
       "      <td>2016-12-31 23:14:21</td>\n",
       "      <td>2016-12-31 23:18:03</td>\n",
       "      <td>190</td>\n",
       "      <td>6</td>\n",
       "      <td>Nashua Street at Red Auerbach Way</td>\n",
       "      <td>Cambridge St at Joy St</td>\n",
       "      <td>1420</td>\n",
       "      <td>Subscriber</td>\n",
       "      <td>0 days 00:03:42</td>\n",
       "      <td>2016-12-31</td>\n",
       "      <td>12</td>\n",
       "      <td>5</td>\n",
       "      <td>23</td>\n",
       "      <td>14</td>\n",
       "    </tr>\n",
       "    <tr>\n",
       "      <th>1236200</th>\n",
       "      <td>2016-12-31 23:15:38</td>\n",
       "      <td>2016-12-31 23:24:43</td>\n",
       "      <td>33</td>\n",
       "      <td>36</td>\n",
       "      <td>Kenmore Square</td>\n",
       "      <td>Copley Square - Dartmouth St at Boylston St</td>\n",
       "      <td>230</td>\n",
       "      <td>Subscriber</td>\n",
       "      <td>0 days 00:09:05</td>\n",
       "      <td>2016-12-31</td>\n",
       "      <td>12</td>\n",
       "      <td>5</td>\n",
       "      <td>23</td>\n",
       "      <td>15</td>\n",
       "    </tr>\n",
       "    <tr>\n",
       "      <th>1236201</th>\n",
       "      <td>2016-12-31 23:20:35</td>\n",
       "      <td>2016-12-31 23:27:58</td>\n",
       "      <td>90</td>\n",
       "      <td>141</td>\n",
       "      <td>Lechmere Station at Cambridge St / First St</td>\n",
       "      <td>Kendall Street</td>\n",
       "      <td>74</td>\n",
       "      <td>Subscriber</td>\n",
       "      <td>0 days 00:07:23</td>\n",
       "      <td>2016-12-31</td>\n",
       "      <td>12</td>\n",
       "      <td>5</td>\n",
       "      <td>23</td>\n",
       "      <td>20</td>\n",
       "    </tr>\n",
       "    <tr>\n",
       "      <th>1236202</th>\n",
       "      <td>2016-12-31 23:34:18</td>\n",
       "      <td>2016-12-31 23:42:20</td>\n",
       "      <td>80</td>\n",
       "      <td>90</td>\n",
       "      <td>MIT Stata Center at Vassar St / Main St</td>\n",
       "      <td>Lechmere Station at Cambridge St / First St</td>\n",
       "      <td>309</td>\n",
       "      <td>Subscriber</td>\n",
       "      <td>0 days 00:08:02</td>\n",
       "      <td>2016-12-31</td>\n",
       "      <td>12</td>\n",
       "      <td>5</td>\n",
       "      <td>23</td>\n",
       "      <td>34</td>\n",
       "    </tr>\n",
       "  </tbody>\n",
       "</table>\n",
       "<p>1235121 rows × 14 columns</p>\n",
       "</div>"
      ],
      "text/plain": [
       "                 start_time            end_time  start_station_id  \\\n",
       "0       2016-01-01 00:08:07 2016-01-01 00:40:26                36   \n",
       "1       2016-01-01 00:08:19 2016-01-01 00:40:27                36   \n",
       "2       2016-01-01 00:10:15 2016-01-01 00:40:29                36   \n",
       "3       2016-01-01 00:10:22 2016-01-01 00:40:11                36   \n",
       "4       2016-01-01 00:15:36 2016-01-01 00:31:17                36   \n",
       "...                     ...                 ...               ...   \n",
       "1236198 2016-12-31 23:01:46 2016-12-31 23:14:20                 8   \n",
       "1236199 2016-12-31 23:14:21 2016-12-31 23:18:03               190   \n",
       "1236200 2016-12-31 23:15:38 2016-12-31 23:24:43                33   \n",
       "1236201 2016-12-31 23:20:35 2016-12-31 23:27:58                90   \n",
       "1236202 2016-12-31 23:34:18 2016-12-31 23:42:20                80   \n",
       "\n",
       "         end_station_id                           start_station_name  \\\n",
       "0                    19     Boston Public Library - 700 Boylston St.   \n",
       "1                    19     Boston Public Library - 700 Boylston St.   \n",
       "2                    19     Boston Public Library - 700 Boylston St.   \n",
       "3                    19     Boston Public Library - 700 Boylston St.   \n",
       "4                    67     Boston Public Library - 700 Boylston St.   \n",
       "...                 ...                                          ...   \n",
       "1236198              33  Union Square - Brighton Ave at Cambridge St   \n",
       "1236199               6            Nashua Street at Red Auerbach Way   \n",
       "1236200              36                               Kenmore Square   \n",
       "1236201             141  Lechmere Station at Cambridge St / First St   \n",
       "1236202              90      MIT Stata Center at Vassar St / Main St   \n",
       "\n",
       "                                    end_station_name  bike_id   user_type  \\\n",
       "0                            Buswell St. at Park Dr.     1406  Subscriber   \n",
       "1                            Buswell St. at Park Dr.     1121  Subscriber   \n",
       "2                            Buswell St. at Park Dr.      474  Subscriber   \n",
       "3                            Buswell St. at Park Dr.     1504  Subscriber   \n",
       "4                       MIT at Mass Ave / Amherst St      913    Customer   \n",
       "...                                              ...      ...         ...   \n",
       "1236198                               Kenmore Square      230  Subscriber   \n",
       "1236199                       Cambridge St at Joy St     1420  Subscriber   \n",
       "1236200  Copley Square - Dartmouth St at Boylston St      230  Subscriber   \n",
       "1236201                               Kendall Street       74  Subscriber   \n",
       "1236202  Lechmere Station at Cambridge St / First St      309  Subscriber   \n",
       "\n",
       "          trip_duration       date  month  weekday  hour  minute  \n",
       "0       0 days 00:32:19 2016-01-01      1        4     0       8  \n",
       "1       0 days 00:32:08 2016-01-01      1        4     0       8  \n",
       "2       0 days 00:30:14 2016-01-01      1        4     0      10  \n",
       "3       0 days 00:29:49 2016-01-01      1        4     0      10  \n",
       "4       0 days 00:15:41 2016-01-01      1        4     0      15  \n",
       "...                 ...        ...    ...      ...   ...     ...  \n",
       "1236198 0 days 00:12:34 2016-12-31     12        5    23       1  \n",
       "1236199 0 days 00:03:42 2016-12-31     12        5    23      14  \n",
       "1236200 0 days 00:09:05 2016-12-31     12        5    23      15  \n",
       "1236201 0 days 00:07:23 2016-12-31     12        5    23      20  \n",
       "1236202 0 days 00:08:02 2016-12-31     12        5    23      34  \n",
       "\n",
       "[1235121 rows x 14 columns]"
      ]
     },
     "execution_count": 34,
     "metadata": {},
     "output_type": "execute_result"
    }
   ],
   "source": [
    "bostonC"
   ]
  },
  {
   "cell_type": "markdown",
   "metadata": {},
   "source": [
    "### plot some data"
   ]
  },
  {
   "cell_type": "code",
   "execution_count": 40,
   "metadata": {},
   "outputs": [
    {
     "data": {
      "image/png": "[encoded data removed]",
      "text/plain": [
       "<Figure size 1760x990 with 1 Axes>"
      ]
     },
     "metadata": {},
     "output_type": "display_data"
    }
   ],
   "source": [
    "### bikes used per weekday\n",
    "\n",
    "bostonC_used = bostonC.groupby([\"date\", \"weekday\"])[\"bike_id\"].nunique()\n",
    "bostonC_used = pd.DataFrame(bostonC_used)\n",
    "\n",
    "fig,ax = plt.subplots(figsize=(16,9), dpi=110) \n",
    "\n",
    "sns.boxplot(x=bostonC_used.index.get_level_values(1), y=bostonC_used[\"bike_id\"],ax=ax)\n",
    "plt.show()\n"
   ]
  },
  {
   "cell_type": "code",
   "execution_count": 169,
   "metadata": {},
   "outputs": [
    {
     "data": {
      "text/plain": [
       "2    202905\n",
       "3    199816\n",
       "4    190813\n",
       "1    190235\n",
       "0    179028\n",
       "5    144045\n",
       "6    128279\n",
       "Name: weekday, dtype: int64"
      ]
     },
     "execution_count": 169,
     "metadata": {},
     "output_type": "execute_result"
    }
   ],
   "source": [
    "bostonC[\"weekday\"].value_counts()"
   ]
  },
  {
   "cell_type": "code",
   "execution_count": 65,
   "metadata": {},
   "outputs": [
    {
     "data": {
      "image/png": "[encoded data removed]",
      "text/plain": [
       "<Figure size 1600x900 with 1 Axes>"
      ]
     },
     "metadata": {},
     "output_type": "display_data"
    }
   ],
   "source": [
    "### bikes used per hour\n",
    "\n",
    "bostonC_used = bostonC.groupby([\"date\", \"hour\"])[\"bike_id\"].nunique()\n",
    "bostonC_used = pd.DataFrame(bostonC_used)\n",
    "\n",
    "fig,ax = plt.subplots(figsize=(16,9), dpi=100) \n",
    "\n",
    "sns.boxplot(x=bostonC_used.index.get_level_values(1), y=bostonC_used[\"bike_id\"],ax=ax)\n",
    "plt.show()\n"
   ]
  },
  {
   "cell_type": "code",
   "execution_count": 168,
   "metadata": {},
   "outputs": [
    {
     "data": {
      "text/plain": [
       "17    142069\n",
       "8     113589\n",
       "16    106857\n",
       "18    103373\n",
       "15     75966\n",
       "19     70553\n",
       "9      69307\n",
       "7      67316\n",
       "12     67298\n",
       "13     67166\n",
       "14     66003\n",
       "11     56706\n",
       "10     51275\n",
       "20     48314\n",
       "21     34431\n",
       "6      26118\n",
       "22     25172\n",
       "23     16234\n",
       "0       9240\n",
       "1       5894\n",
       "5       5825\n",
       "2       3636\n",
       "3       1442\n",
       "4       1337\n",
       "Name: hour, dtype: int64"
      ]
     },
     "execution_count": 168,
     "metadata": {},
     "output_type": "execute_result"
    }
   ],
   "source": [
    "bostonC[\"hour\"].value_counts()"
   ]
  },
  {
   "cell_type": "code",
   "execution_count": 42,
   "metadata": {},
   "outputs": [
    {
     "data": {
      "image/png": "[encoded data removed]",
      "text/plain": [
       "<Figure size 1760x990 with 1 Axes>"
      ]
     },
     "metadata": {},
     "output_type": "display_data"
    }
   ],
   "source": [
    "### bikes used per month\n",
    "\n",
    "bostonC_used = bostonC.groupby([\"date\", \"month\"])[\"bike_id\"].nunique()\n",
    "bostonC_used = pd.DataFrame(bostonC_used)\n",
    "\n",
    "fig,ax = plt.subplots(figsize=(16,9), dpi=110) \n",
    "\n",
    "sns.boxplot(x=bostonC_used.index.get_level_values(1), y=bostonC_used[\"bike_id\"],ax=ax)\n",
    "plt.show()\n"
   ]
  },
  {
   "cell_type": "code",
   "execution_count": 150,
   "metadata": {},
   "outputs": [
    {
     "data": {
      "image/png": "[encoded data removed]",
      "text/plain": [
       "<Figure size 2310x990 with 1 Axes>"
      ]
     },
     "metadata": {},
     "output_type": "display_data"
    }
   ],
   "source": [
    "### bikes used \n",
    "\n",
    "bostonC_used = bostonC.groupby([\"date\"])[\"bike_id\"].nunique()\n",
    "#bostonC_used = pd.DataFrame(bostonC_used)\n",
    "\n",
    "fig,ax = plt.subplots(figsize=(21,9), dpi=110) \n",
    "\n",
    "ax.plot(bostonC_used)\n",
    "\n",
    "plt.show()"
   ]
  },
  {
   "cell_type": "code",
   "execution_count": null,
   "metadata": {},
   "outputs": [],
   "source": []
  },
  {
   "cell_type": "code",
   "execution_count": null,
   "metadata": {},
   "outputs": [],
   "source": []
  },
  {
   "cell_type": "code",
   "execution_count": 151,
   "metadata": {},
   "outputs": [
    {
     "data": {
      "image/png": "[encoded data removed]",
      "text/plain": [
       "<Figure size 1760x990 with 1 Axes>"
      ]
     },
     "metadata": {},
     "output_type": "display_data"
    }
   ],
   "source": [
    "### bikes used per usertype\n",
    "\n",
    "bostonC_used = bostonC.groupby([\"date\",\"user_type\"])[\"bike_id\"].nunique()\n",
    "bostonC_used = pd.DataFrame(bostonC_used)\n",
    "\n",
    "fig,ax = plt.subplots(figsize=(16,9), dpi=110) \n",
    "\n",
    "sns.boxplot(x=bostonC_used.index.get_level_values(1), y=bostonC_used[\"bike_id\"],ax=ax)\n",
    "plt.show()\n"
   ]
  },
  {
   "cell_type": "code",
   "execution_count": null,
   "metadata": {},
   "outputs": [],
   "source": [
    "\n"
   ]
  },
  {
   "cell_type": "code",
   "execution_count": 130,
   "metadata": {},
   "outputs": [
    {
     "data": {
      "text/plain": [
       "67     35638\n",
       "22     31507\n",
       "68     24106\n",
       "74     23159\n",
       "80     21175\n",
       "       ...  \n",
       "216       43\n",
       "209       31\n",
       "219       23\n",
       "153        2\n",
       "158        1\n",
       "Name: start_station_id, Length: 189, dtype: int64"
      ]
     },
     "execution_count": 130,
     "metadata": {},
     "output_type": "execute_result"
    }
   ],
   "source": [
    "#len(bostonC.loc[bostonC.start_station_id == 3])\n",
    "bostonC[\"start_station_id\"].value_counts()\n"
   ]
  },
  {
   "cell_type": "code",
   "execution_count": 91,
   "metadata": {},
   "outputs": [
    {
     "name": "stderr",
     "output_type": "stream",
     "text": [
      "<ipython-input-91-db5f132f1f2b>:1: SettingWithCopyWarning: \n",
      "A value is trying to be set on a copy of a slice from a DataFrame.\n",
      "Try using .loc[row_indexer,col_indexer] = value instead\n",
      "\n",
      "See the caveats in the documentation: https://pandas.pydata.org/pandas-docs/stable/user_guide/indexing.html#returning-a-view-versus-a-copy\n",
      "  bostonC[\"trip_id\"] = range(1, len(bostonC) +1)\n"
     ]
    },
    {
     "data": {
      "text/html": [
       "<div>\n",
       "<style scoped>\n",
       "    .dataframe tbody tr th:only-of-type {\n",
       "        vertical-align: middle;\n",
       "    }\n",
       "\n",
       "    .dataframe tbody tr th {\n",
       "        vertical-align: top;\n",
       "    }\n",
       "\n",
       "    .dataframe thead th {\n",
       "        text-align: right;\n",
       "    }\n",
       "</style>\n",
       "<table border=\"1\" class=\"dataframe\">\n",
       "  <thead>\n",
       "    <tr style=\"text-align: right;\">\n",
       "      <th></th>\n",
       "      <th>start_time</th>\n",
       "      <th>end_time</th>\n",
       "      <th>start_station_id</th>\n",
       "      <th>end_station_id</th>\n",
       "      <th>start_station_name</th>\n",
       "      <th>end_station_name</th>\n",
       "      <th>bike_id</th>\n",
       "      <th>user_type</th>\n",
       "      <th>trip_duration</th>\n",
       "      <th>date</th>\n",
       "      <th>month</th>\n",
       "      <th>weekday</th>\n",
       "      <th>hour</th>\n",
       "      <th>minute</th>\n",
       "      <th>trip_id</th>\n",
       "    </tr>\n",
       "  </thead>\n",
       "  <tbody>\n",
       "    <tr>\n",
       "      <th>0</th>\n",
       "      <td>2016-01-01 00:08:07</td>\n",
       "      <td>2016-01-01 00:40:26</td>\n",
       "      <td>36</td>\n",
       "      <td>19</td>\n",
       "      <td>Boston Public Library - 700 Boylston St.</td>\n",
       "      <td>Buswell St. at Park Dr.</td>\n",
       "      <td>1406</td>\n",
       "      <td>Subscriber</td>\n",
       "      <td>0 days 00:32:19</td>\n",
       "      <td>2016-01-01</td>\n",
       "      <td>1</td>\n",
       "      <td>4</td>\n",
       "      <td>0</td>\n",
       "      <td>8</td>\n",
       "      <td>1</td>\n",
       "    </tr>\n",
       "    <tr>\n",
       "      <th>1</th>\n",
       "      <td>2016-01-01 00:08:19</td>\n",
       "      <td>2016-01-01 00:40:27</td>\n",
       "      <td>36</td>\n",
       "      <td>19</td>\n",
       "      <td>Boston Public Library - 700 Boylston St.</td>\n",
       "      <td>Buswell St. at Park Dr.</td>\n",
       "      <td>1121</td>\n",
       "      <td>Subscriber</td>\n",
       "      <td>0 days 00:32:08</td>\n",
       "      <td>2016-01-01</td>\n",
       "      <td>1</td>\n",
       "      <td>4</td>\n",
       "      <td>0</td>\n",
       "      <td>8</td>\n",
       "      <td>2</td>\n",
       "    </tr>\n",
       "    <tr>\n",
       "      <th>2</th>\n",
       "      <td>2016-01-01 00:10:15</td>\n",
       "      <td>2016-01-01 00:40:29</td>\n",
       "      <td>36</td>\n",
       "      <td>19</td>\n",
       "      <td>Boston Public Library - 700 Boylston St.</td>\n",
       "      <td>Buswell St. at Park Dr.</td>\n",
       "      <td>474</td>\n",
       "      <td>Subscriber</td>\n",
       "      <td>0 days 00:30:14</td>\n",
       "      <td>2016-01-01</td>\n",
       "      <td>1</td>\n",
       "      <td>4</td>\n",
       "      <td>0</td>\n",
       "      <td>10</td>\n",
       "      <td>3</td>\n",
       "    </tr>\n",
       "    <tr>\n",
       "      <th>3</th>\n",
       "      <td>2016-01-01 00:10:22</td>\n",
       "      <td>2016-01-01 00:40:11</td>\n",
       "      <td>36</td>\n",
       "      <td>19</td>\n",
       "      <td>Boston Public Library - 700 Boylston St.</td>\n",
       "      <td>Buswell St. at Park Dr.</td>\n",
       "      <td>1504</td>\n",
       "      <td>Subscriber</td>\n",
       "      <td>0 days 00:29:49</td>\n",
       "      <td>2016-01-01</td>\n",
       "      <td>1</td>\n",
       "      <td>4</td>\n",
       "      <td>0</td>\n",
       "      <td>10</td>\n",
       "      <td>4</td>\n",
       "    </tr>\n",
       "    <tr>\n",
       "      <th>4</th>\n",
       "      <td>2016-01-01 00:15:36</td>\n",
       "      <td>2016-01-01 00:31:17</td>\n",
       "      <td>36</td>\n",
       "      <td>67</td>\n",
       "      <td>Boston Public Library - 700 Boylston St.</td>\n",
       "      <td>MIT at Mass Ave / Amherst St</td>\n",
       "      <td>913</td>\n",
       "      <td>Customer</td>\n",
       "      <td>0 days 00:15:41</td>\n",
       "      <td>2016-01-01</td>\n",
       "      <td>1</td>\n",
       "      <td>4</td>\n",
       "      <td>0</td>\n",
       "      <td>15</td>\n",
       "      <td>5</td>\n",
       "    </tr>\n",
       "    <tr>\n",
       "      <th>...</th>\n",
       "      <td>...</td>\n",
       "      <td>...</td>\n",
       "      <td>...</td>\n",
       "      <td>...</td>\n",
       "      <td>...</td>\n",
       "      <td>...</td>\n",
       "      <td>...</td>\n",
       "      <td>...</td>\n",
       "      <td>...</td>\n",
       "      <td>...</td>\n",
       "      <td>...</td>\n",
       "      <td>...</td>\n",
       "      <td>...</td>\n",
       "      <td>...</td>\n",
       "      <td>...</td>\n",
       "    </tr>\n",
       "    <tr>\n",
       "      <th>1236198</th>\n",
       "      <td>2016-12-31 23:01:46</td>\n",
       "      <td>2016-12-31 23:14:20</td>\n",
       "      <td>8</td>\n",
       "      <td>33</td>\n",
       "      <td>Union Square - Brighton Ave at Cambridge St</td>\n",
       "      <td>Kenmore Square</td>\n",
       "      <td>230</td>\n",
       "      <td>Subscriber</td>\n",
       "      <td>0 days 00:12:34</td>\n",
       "      <td>2016-12-31</td>\n",
       "      <td>12</td>\n",
       "      <td>5</td>\n",
       "      <td>23</td>\n",
       "      <td>1</td>\n",
       "      <td>1235117</td>\n",
       "    </tr>\n",
       "    <tr>\n",
       "      <th>1236199</th>\n",
       "      <td>2016-12-31 23:14:21</td>\n",
       "      <td>2016-12-31 23:18:03</td>\n",
       "      <td>190</td>\n",
       "      <td>6</td>\n",
       "      <td>Nashua Street at Red Auerbach Way</td>\n",
       "      <td>Cambridge St at Joy St</td>\n",
       "      <td>1420</td>\n",
       "      <td>Subscriber</td>\n",
       "      <td>0 days 00:03:42</td>\n",
       "      <td>2016-12-31</td>\n",
       "      <td>12</td>\n",
       "      <td>5</td>\n",
       "      <td>23</td>\n",
       "      <td>14</td>\n",
       "      <td>1235118</td>\n",
       "    </tr>\n",
       "    <tr>\n",
       "      <th>1236200</th>\n",
       "      <td>2016-12-31 23:15:38</td>\n",
       "      <td>2016-12-31 23:24:43</td>\n",
       "      <td>33</td>\n",
       "      <td>36</td>\n",
       "      <td>Kenmore Square</td>\n",
       "      <td>Copley Square - Dartmouth St at Boylston St</td>\n",
       "      <td>230</td>\n",
       "      <td>Subscriber</td>\n",
       "      <td>0 days 00:09:05</td>\n",
       "      <td>2016-12-31</td>\n",
       "      <td>12</td>\n",
       "      <td>5</td>\n",
       "      <td>23</td>\n",
       "      <td>15</td>\n",
       "      <td>1235119</td>\n",
       "    </tr>\n",
       "    <tr>\n",
       "      <th>1236201</th>\n",
       "      <td>2016-12-31 23:20:35</td>\n",
       "      <td>2016-12-31 23:27:58</td>\n",
       "      <td>90</td>\n",
       "      <td>141</td>\n",
       "      <td>Lechmere Station at Cambridge St / First St</td>\n",
       "      <td>Kendall Street</td>\n",
       "      <td>74</td>\n",
       "      <td>Subscriber</td>\n",
       "      <td>0 days 00:07:23</td>\n",
       "      <td>2016-12-31</td>\n",
       "      <td>12</td>\n",
       "      <td>5</td>\n",
       "      <td>23</td>\n",
       "      <td>20</td>\n",
       "      <td>1235120</td>\n",
       "    </tr>\n",
       "    <tr>\n",
       "      <th>1236202</th>\n",
       "      <td>2016-12-31 23:34:18</td>\n",
       "      <td>2016-12-31 23:42:20</td>\n",
       "      <td>80</td>\n",
       "      <td>90</td>\n",
       "      <td>MIT Stata Center at Vassar St / Main St</td>\n",
       "      <td>Lechmere Station at Cambridge St / First St</td>\n",
       "      <td>309</td>\n",
       "      <td>Subscriber</td>\n",
       "      <td>0 days 00:08:02</td>\n",
       "      <td>2016-12-31</td>\n",
       "      <td>12</td>\n",
       "      <td>5</td>\n",
       "      <td>23</td>\n",
       "      <td>34</td>\n",
       "      <td>1235121</td>\n",
       "    </tr>\n",
       "  </tbody>\n",
       "</table>\n",
       "<p>1235121 rows × 15 columns</p>\n",
       "</div>"
      ],
      "text/plain": [
       "                 start_time            end_time  start_station_id  \\\n",
       "0       2016-01-01 00:08:07 2016-01-01 00:40:26                36   \n",
       "1       2016-01-01 00:08:19 2016-01-01 00:40:27                36   \n",
       "2       2016-01-01 00:10:15 2016-01-01 00:40:29                36   \n",
       "3       2016-01-01 00:10:22 2016-01-01 00:40:11                36   \n",
       "4       2016-01-01 00:15:36 2016-01-01 00:31:17                36   \n",
       "...                     ...                 ...               ...   \n",
       "1236198 2016-12-31 23:01:46 2016-12-31 23:14:20                 8   \n",
       "1236199 2016-12-31 23:14:21 2016-12-31 23:18:03               190   \n",
       "1236200 2016-12-31 23:15:38 2016-12-31 23:24:43                33   \n",
       "1236201 2016-12-31 23:20:35 2016-12-31 23:27:58                90   \n",
       "1236202 2016-12-31 23:34:18 2016-12-31 23:42:20                80   \n",
       "\n",
       "         end_station_id                           start_station_name  \\\n",
       "0                    19     Boston Public Library - 700 Boylston St.   \n",
       "1                    19     Boston Public Library - 700 Boylston St.   \n",
       "2                    19     Boston Public Library - 700 Boylston St.   \n",
       "3                    19     Boston Public Library - 700 Boylston St.   \n",
       "4                    67     Boston Public Library - 700 Boylston St.   \n",
       "...                 ...                                          ...   \n",
       "1236198              33  Union Square - Brighton Ave at Cambridge St   \n",
       "1236199               6            Nashua Street at Red Auerbach Way   \n",
       "1236200              36                               Kenmore Square   \n",
       "1236201             141  Lechmere Station at Cambridge St / First St   \n",
       "1236202              90      MIT Stata Center at Vassar St / Main St   \n",
       "\n",
       "                                    end_station_name  bike_id   user_type  \\\n",
       "0                            Buswell St. at Park Dr.     1406  Subscriber   \n",
       "1                            Buswell St. at Park Dr.     1121  Subscriber   \n",
       "2                            Buswell St. at Park Dr.      474  Subscriber   \n",
       "3                            Buswell St. at Park Dr.     1504  Subscriber   \n",
       "4                       MIT at Mass Ave / Amherst St      913    Customer   \n",
       "...                                              ...      ...         ...   \n",
       "1236198                               Kenmore Square      230  Subscriber   \n",
       "1236199                       Cambridge St at Joy St     1420  Subscriber   \n",
       "1236200  Copley Square - Dartmouth St at Boylston St      230  Subscriber   \n",
       "1236201                               Kendall Street       74  Subscriber   \n",
       "1236202  Lechmere Station at Cambridge St / First St      309  Subscriber   \n",
       "\n",
       "          trip_duration       date  month  weekday  hour  minute  trip_id  \n",
       "0       0 days 00:32:19 2016-01-01      1        4     0       8        1  \n",
       "1       0 days 00:32:08 2016-01-01      1        4     0       8        2  \n",
       "2       0 days 00:30:14 2016-01-01      1        4     0      10        3  \n",
       "3       0 days 00:29:49 2016-01-01      1        4     0      10        4  \n",
       "4       0 days 00:15:41 2016-01-01      1        4     0      15        5  \n",
       "...                 ...        ...    ...      ...   ...     ...      ...  \n",
       "1236198 0 days 00:12:34 2016-12-31     12        5    23       1  1235117  \n",
       "1236199 0 days 00:03:42 2016-12-31     12        5    23      14  1235118  \n",
       "1236200 0 days 00:09:05 2016-12-31     12        5    23      15  1235119  \n",
       "1236201 0 days 00:07:23 2016-12-31     12        5    23      20  1235120  \n",
       "1236202 0 days 00:08:02 2016-12-31     12        5    23      34  1235121  \n",
       "\n",
       "[1235121 rows x 15 columns]"
      ]
     },
     "execution_count": 91,
     "metadata": {},
     "output_type": "execute_result"
    }
   ],
   "source": [
    "bostonC[\"trip_id\"] = range(1, len(bostonC) +1)\n",
    "bostonC"
   ]
  },
  {
   "cell_type": "code",
   "execution_count": null,
   "metadata": {},
   "outputs": [],
   "source": [
    "\n"
   ]
  },
  {
   "cell_type": "code",
   "execution_count": null,
   "metadata": {},
   "outputs": [],
   "source": []
  }
 ],
 "metadata": {
  "kernelspec": {
   "display_name": "Python 3",
   "language": "python",
   "name": "python3"
  },
  "language_info": {
   "codemirror_mode": {
    "name": "ipython",
    "version": 3
   },
   "file_extension": ".py",
   "mimetype": "text/x-python",
   "name": "python",
   "nbconvert_exporter": "python",
   "pygments_lexer": "ipython3",
   "version": "3.8.5"
  }
 },
 "nbformat": 4,
 "nbformat_minor": 4
}
