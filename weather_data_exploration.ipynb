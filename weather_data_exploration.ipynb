{
 "cells": [
  {
   "cell_type": "markdown",
   "metadata": {},
   "source": [
    "### Exploration of the boston_2016 bluebikes dataset for cleaning preparation"
   ]
  },
  {
   "cell_type": "code",
   "execution_count": 1,
   "metadata": {},
   "outputs": [],
   "source": [
    "# from WS_05\n",
    "\n",
    "# import all relevant libraries\n",
    "\n",
    "import pandas as pd\n",
    "import numpy as np\n",
    "import matplotlib.pyplot as plt\n",
    "from pandas.plotting import register_matplotlib_converters\n",
    "register_matplotlib_converters()\n",
    "import seaborn as sns\n",
    "sns.set()\n",
    "sns.set_style(\"white\")\n",
    "sns.set_palette(\"GnBu_d\")\n",
    "\n",
    "import folium\n",
    "from folium import plugins\n",
    "from folium.plugins import HeatMap\n",
    "\n",
    "import math\n",
    "import random\n",
    "\n",
    "from datetime import date, time, datetime, timedelta"
   ]
  },
  {
   "cell_type": "code",
   "execution_count": 3,
   "metadata": {},
   "outputs": [],
   "source": [
    "### read in boston weather data to a Dataframe\n",
    "\n",
    "weather = pd.read_csv(\"weather_hourly_boston.csv\")"
   ]
  },
  {
   "cell_type": "code",
   "execution_count": 4,
   "metadata": {},
   "outputs": [
    {
     "name": "stdout",
     "output_type": "stream",
     "text": [
      "<class 'pandas.core.frame.DataFrame'>\n",
      "RangeIndex: 43848 entries, 0 to 43847\n",
      "Data columns (total 4 columns):\n",
      " #   Column     Non-Null Count  Dtype  \n",
      "---  ------     --------------  -----  \n",
      " 0   date_time  43354 non-null  object \n",
      " 1   max_temp   43354 non-null  float64\n",
      " 2   min_temp   43354 non-null  float64\n",
      " 3   precip     43356 non-null  float64\n",
      "dtypes: float64(3), object(1)\n",
      "memory usage: 1.3+ MB\n"
     ]
    }
   ],
   "source": [
    "weather.info()"
   ]
  },
  {
   "cell_type": "code",
   "execution_count": 7,
   "metadata": {},
   "outputs": [
    {
     "data": {
      "text/plain": [
       "date_time    494\n",
       "max_temp     494\n",
       "min_temp     494\n",
       "precip       492\n",
       "dtype: int64"
      ]
     },
     "execution_count": 7,
     "metadata": {},
     "output_type": "execute_result"
    }
   ],
   "source": [
    "weather.isna().sum()"
   ]
  },
  {
   "cell_type": "code",
   "execution_count": 10,
   "metadata": {},
   "outputs": [],
   "source": [
    "### weather date_time change Dtype from object to date_time\n",
    "weather[\"date_time\"] = pd.to_datetime(weather[\"date_time\"])"
   ]
  },
  {
   "cell_type": "markdown",
   "metadata": {},
   "source": [
    "### data has null values"
   ]
  },
  {
   "cell_type": "code",
   "execution_count": 11,
   "metadata": {},
   "outputs": [
    {
     "name": "stdout",
     "output_type": "stream",
     "text": [
      "2016-01-01 00:00:01\n"
     ]
    }
   ],
   "source": [
    "### begin of 2016\n",
    "dateY1 = datetime(year=2016, month=1, day=1, hour=0, minute= 0, second=1, microsecond=0)\n",
    "print(dateY1)"
   ]
  },
  {
   "cell_type": "code",
   "execution_count": 12,
   "metadata": {},
   "outputs": [
    {
     "name": "stdout",
     "output_type": "stream",
     "text": [
      "2016-12-31 23:59:59\n"
     ]
    }
   ],
   "source": [
    "### end of 2016\n",
    "dateY2 = datetime(year=2016, month=12, day=31, hour=23, minute= 59, second=59, microsecond=0)\n",
    "print(dateY2)"
   ]
  },
  {
   "cell_type": "code",
   "execution_count": 14,
   "metadata": {},
   "outputs": [
    {
     "name": "stdout",
     "output_type": "stream",
     "text": [
      "<class 'pandas.core.frame.DataFrame'>\n",
      "Int64Index: 8689 entries, 8736 to 17542\n",
      "Data columns (total 4 columns):\n",
      " #   Column     Non-Null Count  Dtype         \n",
      "---  ------     --------------  -----         \n",
      " 0   date_time  8689 non-null   datetime64[ns]\n",
      " 1   max_temp   8689 non-null   float64       \n",
      " 2   min_temp   8689 non-null   float64       \n",
      " 3   precip     8689 non-null   float64       \n",
      "dtypes: datetime64[ns](1), float64(3)\n",
      "memory usage: 339.4 KB\n"
     ]
    }
   ],
   "source": [
    "## only weather data from 2016\n",
    "weather2016 = weather[(weather[\"date_time\"] > dateY1) & (weather[\"date_time\"] < dateY2)]\n",
    "weather2016.info()"
   ]
  },
  {
   "cell_type": "code",
   "execution_count": 16,
   "metadata": {},
   "outputs": [
    {
     "data": {
      "text/plain": [
       "date_time    0\n",
       "max_temp     0\n",
       "min_temp     0\n",
       "precip       0\n",
       "dtype: int64"
      ]
     },
     "execution_count": 16,
     "metadata": {},
     "output_type": "execute_result"
    }
   ],
   "source": [
    "weather2016.isna().sum()"
   ]
  },
  {
   "cell_type": "code",
   "execution_count": 17,
   "metadata": {},
   "outputs": [],
   "source": [
    "# Let's map time of day and day of week to our DF\n",
    "\n",
    "def get_date (ts):\n",
    "    return ts.date()\n",
    "\n",
    "def get_weekday (ts):\n",
    "    return ts.weekday()\n",
    "\n",
    "def get_hour (ts):\n",
    "    return ts.hour\n",
    "\n",
    "def get_minute (ts):\n",
    "    return ts.minute"
   ]
  },
  {
   "cell_type": "markdown",
   "metadata": {},
   "source": [
    "0 Null values in 2016 data, save to drop all null values from weather dataframe"
   ]
  },
  {
   "cell_type": "code",
   "execution_count": 20,
   "metadata": {},
   "outputs": [],
   "source": [
    "weather.dropna(inplace = True)"
   ]
  },
  {
   "cell_type": "code",
   "execution_count": 21,
   "metadata": {},
   "outputs": [
    {
     "name": "stdout",
     "output_type": "stream",
     "text": [
      "<class 'pandas.core.frame.DataFrame'>\n",
      "Int64Index: 8689 entries, 8736 to 17542\n",
      "Data columns (total 4 columns):\n",
      " #   Column     Non-Null Count  Dtype         \n",
      "---  ------     --------------  -----         \n",
      " 0   date_time  8689 non-null   datetime64[ns]\n",
      " 1   max_temp   8689 non-null   float64       \n",
      " 2   min_temp   8689 non-null   float64       \n",
      " 3   precip     8689 non-null   float64       \n",
      "dtypes: datetime64[ns](1), float64(3)\n",
      "memory usage: 339.4 KB\n"
     ]
    }
   ],
   "source": [
    "weather16 = weather[(weather[\"date_time\"] > dateY1) & (weather[\"date_time\"] < dateY2)]\n",
    "weather16.info()"
   ]
  },
  {
   "cell_type": "code",
   "execution_count": 40,
   "metadata": {},
   "outputs": [
    {
     "name": "stderr",
     "output_type": "stream",
     "text": [
      "<ipython-input-40-164167963dce>:2: SettingWithCopyWarning: \n",
      "A value is trying to be set on a copy of a slice from a DataFrame.\n",
      "Try using .loc[row_indexer,col_indexer] = value instead\n",
      "\n",
      "See the caveats in the documentation: https://pandas.pydata.org/pandas-docs/stable/user_guide/indexing.html#returning-a-view-versus-a-copy\n",
      "  weather16[\"date\"] = weather16[\"date_time\"].apply(lambda ts: get_date (ts))\n",
      "<ipython-input-40-164167963dce>:3: SettingWithCopyWarning: \n",
      "A value is trying to be set on a copy of a slice from a DataFrame.\n",
      "Try using .loc[row_indexer,col_indexer] = value instead\n",
      "\n",
      "See the caveats in the documentation: https://pandas.pydata.org/pandas-docs/stable/user_guide/indexing.html#returning-a-view-versus-a-copy\n",
      "  weather16[\"weekday\"] = weather16[\"date_time\"].apply(lambda ts: get_weekday (ts))\n",
      "<ipython-input-40-164167963dce>:4: SettingWithCopyWarning: \n",
      "A value is trying to be set on a copy of a slice from a DataFrame.\n",
      "Try using .loc[row_indexer,col_indexer] = value instead\n",
      "\n",
      "See the caveats in the documentation: https://pandas.pydata.org/pandas-docs/stable/user_guide/indexing.html#returning-a-view-versus-a-copy\n",
      "  weather16[\"hour\"] = weather16[\"date_time\"].apply(lambda x: get_hour (x))\n"
     ]
    }
   ],
   "source": [
    "### add seperate date and hour data\n",
    "weather16[\"date\"] = weather16[\"date_time\"].apply(lambda ts: get_date (ts))\n",
    "weather16[\"weekday\"] = weather16[\"date_time\"].apply(lambda ts: get_weekday (ts))\n",
    "weather16[\"hour\"] = weather16[\"date_time\"].apply(lambda x: get_hour (x))"
   ]
  },
  {
   "cell_type": "code",
   "execution_count": 41,
   "metadata": {},
   "outputs": [
    {
     "name": "stdout",
     "output_type": "stream",
     "text": [
      "<class 'pandas.core.frame.DataFrame'>\n",
      "Int64Index: 8689 entries, 8736 to 17542\n",
      "Data columns (total 7 columns):\n",
      " #   Column     Non-Null Count  Dtype         \n",
      "---  ------     --------------  -----         \n",
      " 0   date_time  8689 non-null   datetime64[ns]\n",
      " 1   max_temp   8689 non-null   float64       \n",
      " 2   min_temp   8689 non-null   float64       \n",
      " 3   precip     8689 non-null   float64       \n",
      " 4   date       8689 non-null   object        \n",
      " 5   hour       8689 non-null   int64         \n",
      " 6   weekday    8689 non-null   int64         \n",
      "dtypes: datetime64[ns](1), float64(3), int64(2), object(1)\n",
      "memory usage: 543.1+ KB\n"
     ]
    }
   ],
   "source": [
    "weather16.info()"
   ]
  },
  {
   "cell_type": "code",
   "execution_count": 42,
   "metadata": {},
   "outputs": [
    {
     "name": "stderr",
     "output_type": "stream",
     "text": [
      "<ipython-input-42-6efcca3dc93d>:2: SettingWithCopyWarning: \n",
      "A value is trying to be set on a copy of a slice from a DataFrame.\n",
      "Try using .loc[row_indexer,col_indexer] = value instead\n",
      "\n",
      "See the caveats in the documentation: https://pandas.pydata.org/pandas-docs/stable/user_guide/indexing.html#returning-a-view-versus-a-copy\n",
      "  weather16[\"date\"] = pd.to_datetime(weather16[\"date\"])\n"
     ]
    }
   ],
   "source": [
    "### date type to datetime\n",
    "weather16[\"date\"] = pd.to_datetime(weather16[\"date\"])"
   ]
  },
  {
   "cell_type": "code",
   "execution_count": 43,
   "metadata": {},
   "outputs": [
    {
     "name": "stdout",
     "output_type": "stream",
     "text": [
      "<class 'pandas.core.frame.DataFrame'>\n",
      "Int64Index: 8689 entries, 8736 to 17542\n",
      "Data columns (total 7 columns):\n",
      " #   Column     Non-Null Count  Dtype         \n",
      "---  ------     --------------  -----         \n",
      " 0   date_time  8689 non-null   datetime64[ns]\n",
      " 1   max_temp   8689 non-null   float64       \n",
      " 2   min_temp   8689 non-null   float64       \n",
      " 3   precip     8689 non-null   float64       \n",
      " 4   date       8689 non-null   datetime64[ns]\n",
      " 5   hour       8689 non-null   int64         \n",
      " 6   weekday    8689 non-null   int64         \n",
      "dtypes: datetime64[ns](2), float64(3), int64(2)\n",
      "memory usage: 543.1 KB\n"
     ]
    }
   ],
   "source": [
    "weather16.info()"
   ]
  },
  {
   "cell_type": "code",
   "execution_count": 44,
   "metadata": {},
   "outputs": [
    {
     "data": {
      "text/plain": [
       "564"
      ]
     },
     "execution_count": 44,
     "metadata": {},
     "output_type": "execute_result"
    }
   ],
   "source": [
    "### nb. of hours with max_temp > min_temp\n",
    "len(weather16.loc[weather16.max_temp > weather16.min_temp])"
   ]
  },
  {
   "cell_type": "code",
   "execution_count": 45,
   "metadata": {},
   "outputs": [
    {
     "data": {
      "text/plain": [
       "8125"
      ]
     },
     "execution_count": 45,
     "metadata": {},
     "output_type": "execute_result"
    }
   ],
   "source": [
    "### nb. of hours with max_temp = min_temp\n",
    "len(weather16.loc[weather16.max_temp == weather16.min_temp])"
   ]
  },
  {
   "cell_type": "code",
   "execution_count": 46,
   "metadata": {},
   "outputs": [
    {
     "data": {
      "text/plain": [
       "703"
      ]
     },
     "execution_count": 46,
     "metadata": {},
     "output_type": "execute_result"
    }
   ],
   "source": [
    "### nb. of hours with weather preciptions, like snow or rainfall \n",
    "len(weather16.loc[weather16.precip == 1.0])"
   ]
  },
  {
   "cell_type": "code",
   "execution_count": 47,
   "metadata": {},
   "outputs": [
    {
     "data": {
      "text/plain": [
       "7986"
      ]
     },
     "execution_count": 47,
     "metadata": {},
     "output_type": "execute_result"
    }
   ],
   "source": [
    "### nb. of hours without weather preciptions\n",
    "len(weather16.loc[weather16.precip == 0.0])"
   ]
  },
  {
   "cell_type": "code",
   "execution_count": 48,
   "metadata": {},
   "outputs": [
    {
     "data": {
      "text/plain": [
       "36.1"
      ]
     },
     "execution_count": 48,
     "metadata": {},
     "output_type": "execute_result"
    }
   ],
   "source": [
    "### weather 2016 max_temp max.\n",
    "weather16[\"max_temp\"].max()"
   ]
  },
  {
   "cell_type": "code",
   "execution_count": 49,
   "metadata": {},
   "outputs": [
    {
     "data": {
      "text/plain": [
       "36.1"
      ]
     },
     "execution_count": 49,
     "metadata": {},
     "output_type": "execute_result"
    }
   ],
   "source": [
    "### weather 2016 min_temp max.\n",
    "weather2016[\"min_temp\"].max()"
   ]
  },
  {
   "cell_type": "code",
   "execution_count": 50,
   "metadata": {},
   "outputs": [
    {
     "data": {
      "text/plain": [
       "-22.8"
      ]
     },
     "execution_count": 50,
     "metadata": {},
     "output_type": "execute_result"
    }
   ],
   "source": [
    "### weather 2016 max_temp min.\n",
    "weather2016[\"max_temp\"].min()"
   ]
  },
  {
   "cell_type": "code",
   "execution_count": 51,
   "metadata": {},
   "outputs": [
    {
     "data": {
      "text/plain": [
       "-22.8"
      ]
     },
     "execution_count": 51,
     "metadata": {},
     "output_type": "execute_result"
    }
   ],
   "source": [
    "### weather 2016 min_temp min.\n",
    "weather2016[\"min_temp\"].min()"
   ]
  },
  {
   "cell_type": "code",
   "execution_count": 52,
   "metadata": {},
   "outputs": [
    {
     "data": {
      "text/plain": [
       "11.737058349637453"
      ]
     },
     "execution_count": 52,
     "metadata": {},
     "output_type": "execute_result"
    }
   ],
   "source": [
    "### weather 2016 max_temp mean.\n",
    "weather2016[\"max_temp\"].mean()"
   ]
  },
  {
   "cell_type": "code",
   "execution_count": 53,
   "metadata": {},
   "outputs": [
    {
     "data": {
      "text/plain": [
       "11.684014270917245"
      ]
     },
     "execution_count": 53,
     "metadata": {},
     "output_type": "execute_result"
    }
   ],
   "source": [
    "### weather 2016 min_temp mean.\n",
    "weather2016[\"min_temp\"].mean()"
   ]
  },
  {
   "cell_type": "markdown",
   "metadata": {},
   "source": [
    "### plot some data"
   ]
  },
  {
   "cell_type": "code",
   "execution_count": 54,
   "metadata": {},
   "outputs": [
    {
     "data": {
      "image/png": "[encoded data removed]",
      "text/plain": [
       "<Figure size 1152x648 with 1 Axes>"
      ]
     },
     "metadata": {},
     "output_type": "display_data"
    }
   ],
   "source": [
    "fig, ax = plt.subplots(figsize = (16,9))\n",
    "\n",
    "# Plotting the data\n",
    "ax.plot(weather16[\"date\"],weather16[[\"max_temp\"]])\n",
    "ax.set_xlabel(\"Date\")\n",
    "ax.set_ylabel(\"Max Temp\")\n",
    "plt.show()"
   ]
  },
  {
   "cell_type": "code",
   "execution_count": 62,
   "metadata": {},
   "outputs": [
    {
     "data": {
      "image/png": "[encoded data removed]",
      "text/plain": [
       "<Figure size 1152x648 with 1 Axes>"
      ]
     },
     "metadata": {},
     "output_type": "display_data"
    }
   ],
   "source": [
    "\n",
    "weather16_temp = weather16.groupby([\"date\", \"weekday\"])[\"max_temp\"].max()\n",
    "weather16_temp = pd.DataFrame(weather16_temp)\n",
    "\n",
    "fig,ax = plt.subplots(figsize=(16,9)) \n",
    "\n",
    "sns.boxplot(x=weather16_temp.index.get_level_values(1), y=weather16_temp[\"max_temp\"],ax=ax)\n",
    "plt.show()"
   ]
  },
  {
   "cell_type": "code",
   "execution_count": 63,
   "metadata": {},
   "outputs": [
    {
     "data": {
      "image/png": "[encoded data removed]",
      "text/plain": [
       "<Figure size 1152x648 with 1 Axes>"
      ]
     },
     "metadata": {},
     "output_type": "display_data"
    }
   ],
   "source": [
    "weather16_temp = weather16.groupby([\"date\", \"hour\"])[\"max_temp\"].max()\n",
    "weather16_temp = pd.DataFrame(weather16_temp)\n",
    "\n",
    "fig,ax = plt.subplots(figsize=(16,9)) \n",
    "\n",
    "sns.boxplot(x=weather16_temp.index.get_level_values(1), y=weather16_temp[\"max_temp\"],ax=ax)\n",
    "plt.show()"
   ]
  },
  {
   "cell_type": "code",
   "execution_count": null,
   "metadata": {},
   "outputs": [],
   "source": []
  }
 ],
 "metadata": {
  "kernelspec": {
   "display_name": "Python 3",
   "language": "python",
   "name": "python3"
  },
  "language_info": {
   "codemirror_mode": {
    "name": "ipython",
    "version": 3
   },
   "file_extension": ".py",
   "mimetype": "text/x-python",
   "name": "python",
   "nbconvert_exporter": "python",
   "pygments_lexer": "ipython3",
   "version": "3.8.5"
  }
 },
 "nbformat": 4,
 "nbformat_minor": 4
}
